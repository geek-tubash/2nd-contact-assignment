{
 "cells": [
  {
   "cell_type": "markdown",
   "id": "bf82b848-9eda-40a9-ac4c-d6d47884e2f6",
   "metadata": {},
   "source": [
    "### 1. Create a text file that has your full name, and write code to read it and extract first name, middle name and last name."
   ]
  },
  {
   "cell_type": "code",
   "execution_count": 1,
   "id": "f9a953e0-5bc3-421e-b765-454501e444f0",
   "metadata": {},
   "outputs": [
    {
     "name": "stdout",
     "output_type": "stream",
     "text": [
      "First Name: Bashir\n",
      "Middle Name: Mustapha\n",
      "Last Name: Lawan\n"
     ]
    }
   ],
   "source": [
    "with open(\"full_name.txt\", \"w\") as f:\n",
    "    f.write(\"Bashir Mustapha Lawan\") \n",
    "\n",
    "with open(\"full_name.txt\", \"r\") as f:\n",
    "    name = f.read().strip().split()\n",
    "\n",
    "first = name[0] if len(name) > 0 else \"\"\n",
    "middle = name[1] if len(name) == 3 else \"\"\n",
    "last = name[-1] if len(name) > 1 else \"\"\n",
    "\n",
    "print(\"First Name:\", first)\n",
    "print(\"Middle Name:\", middle)\n",
    "print(\"Last Name:\", last)\n"
   ]
  },
  {
   "cell_type": "markdown",
   "id": "9087f0f9-904a-4f68-88bf-b6fb93c3d3c7",
   "metadata": {},
   "source": [
    "### 2. Using the library os, print your local file path on screen"
   ]
  },
  {
   "cell_type": "code",
   "execution_count": 2,
   "id": "230de3c1-e17a-453c-bde6-b55440073bed",
   "metadata": {},
   "outputs": [
    {
     "name": "stdout",
     "output_type": "stream",
     "text": [
      "Full File Path: C:\\Users\\pc\\Desktop\\full_name.txt\n"
     ]
    }
   ],
   "source": [
    "import os\n",
    "\n",
    "path = os.path.abspath(\"full_name.txt\")\n",
    "print(\"Full File Path:\", path)\n"
   ]
  },
  {
   "cell_type": "markdown",
   "id": "d3810db3-5e3f-438b-a8d7-fcc2b0a6c777",
   "metadata": {},
   "source": [
    "### 3a. Extraction of baby name from file using regex not using built-in libraries"
   ]
  },
  {
   "cell_type": "code",
   "execution_count": 7,
   "id": "55ce5bea-3eff-4993-8757-ab135b740b69",
   "metadata": {},
   "outputs": [
    {
     "name": "stdout",
     "output_type": "stream",
     "text": [
      "Baby Names Found: ['Popular', 'Baby', 'Names', 'Social', 'Security', 'Online', 'Popular', 'Baby', 'Names', 'Popular', 'Baby', 'Names', 'Social', 'Security', 'Popular', 'Names', 'Birth', 'Year', 'December', 'Background', 'Select', 'Go', 'Popularity', 'Popularity', 'Rank', 'Male', 'Female', 'Jacob', 'Emma', 'Michael', 'Isabella', 'Ethan', 'Emily', 'Joshua', 'Madison', 'Daniel', 'Ava', 'Alexander', 'Olivia', 'Anthony', 'Sophia', 'William', 'Abigail', 'Christopher', 'Elizabeth', 'Matthew', 'Chloe', 'Jayden', 'Samantha', 'Andrew', 'Addison', 'Joseph', 'Natalie', 'David', 'Mia', 'Noah', 'Alexis', 'Aiden', 'Alyssa', 'James', 'Hannah', 'Ryan', 'Ashley', 'Logan', 'Ella', 'John', 'Sarah', 'Nathan', 'Grace', 'Elijah', 'Taylor', 'Christian', 'Brianna', 'Gabriel', 'Lily', 'Benjamin', 'Hailey', 'Jonathan', 'Anna', 'Tyler', 'Victoria', 'Samuel', 'Kayla', 'Nicholas', 'Lillian', 'Gavin', 'Lauren', 'Dylan', 'Kaylee', 'Jackson', 'Allison', 'Brandon', 'Savannah', 'Caleb', 'Nevaeh', 'Mason', 'Gabriella', 'Angel', 'Sofia', 'Isaac', 'Makayla', 'Evan', 'Avery', 'Jack', 'Riley', 'Kevin', 'Julia', 'Jose', 'Leah', 'Isaiah', 'Aubrey', 'Luke', 'Jasmine', 'Landon', 'Audrey', 'Justin', 'Katherine', 'Lucas', 'Morgan', 'Zachary', 'Brooklyn', 'Jordan', 'Destiny', 'Robert', 'Sydney', 'Aaron', 'Alexa', 'Brayden', 'Kylie', 'Thomas', 'Brooke', 'Cameron', 'Kaitlyn', 'Hunter', 'Evelyn', 'Austin', 'Layla', 'Adrian', 'Madeline', 'Connor', 'Kimberly', 'Owen', 'Zoe', 'Aidan', 'Jessica', 'Jason', 'Peyton', 'Julian', 'Alexandra', 'Wyatt', 'Claire', 'Charles', 'Madelyn', 'Luis', 'Maria', 'Carter', 'Mackenzie', 'Juan', 'Arianna', 'Chase', 'Jocelyn', 'Diego', 'Amelia', 'Jeremiah', 'Angelina', 'Brody', 'Trinity', 'Xavier', 'Andrea', 'Adam', 'Maya', 'Carlos', 'Valeria', 'Sebastian', 'Sophie', 'Liam', 'Rachel', 'Hayden', 'Vanessa', 'Nathaniel', 'Aaliyah', 'Henry', 'Mariah', 'Jesus', 'Gabrielle', 'Ian', 'Katelyn', 'Tristan', 'Ariana', 'Bryan', 'Bailey', 'Sean', 'Camila', 'Cole', 'Jennifer', 'Alex', 'Melanie', 'Eric', 'Gianna', 'Brian', 'Charlotte', 'Jaden', 'Paige', 'Carson', 'Autumn', 'Blake', 'Payton', 'Ayden', 'Faith', 'Cooper', 'Sara', 'Dominic', 'Isabelle', 'Brady', 'Caroline', 'Caden', 'Genesis', 'Josiah', 'Isabel', 'Kyle', 'Mary', 'Colton', 'Zoey', 'Kaden', 'Gracie', 'Eli', 'Megan', 'Miguel', 'Haley', 'Antonio', 'Mya', 'Parker', 'Michelle', 'Steven', 'Molly', 'Alejandro', 'Stephanie', 'Riley', 'Nicole', 'Richard', 'Jenna', 'Timothy', 'Natalia', 'Devin', 'Sadie', 'Jesse', 'Jada', 'Victor', 'Serenity', 'Jake', 'Lucy', 'Joel', 'Ruby', 'Colin', 'Eva', 'Kaleb', 'Kennedy', 'Bryce', 'Rylee', 'Levi', 'Jayla', 'Oliver', 'Naomi', 'Oscar', 'Rebecca', 'Vincent', 'Lydia', 'Ashton', 'Daniela', 'Cody', 'Bella', 'Micah', 'Keira', 'Preston', 'Adriana', 'Marcus', 'Lilly', 'Max', 'Hayden', 'Patrick', 'Miley', 'Seth', 'Katie', 'Jeremy', 'Jade', 'Peyton', 'Jordan', 'Nolan', 'Gabriela', 'Ivan', 'Amy', 'Damian', 'Angela', 'Maxwell', 'Melissa', 'Alan', 'Valerie', 'Kenneth', 'Giselle', 'Jonah', 'Diana', 'Jorge', 'Amanda', 'Mark', 'Kate', 'Giovanni', 'Laila', 'Eduardo', 'Reagan', 'Grant', 'Jordyn', 'Collin', 'Kylee', 'Gage', 'Danielle', 'Omar', 'Briana', 'Emmanuel', 'Marley', 'Trevor', 'Leslie', 'Edward', 'Kendall', 'Ricardo', 'Catherine', 'Cristian', 'Liliana', 'Nicolas', 'Mckenzie', 'Kayden', 'Jacqueline', 'George', 'Ashlyn', 'Jaxon', 'Reese', 'Paul', 'Marissa', 'Braden', 'London', 'Elias', 'Juliana', 'Andres', 'Shelby', 'Derek', 'Cheyenne', 'Garrett', 'Angel', 'Tanner', 'Daisy', 'Malachi', 'Makenzie', 'Conner', 'Miranda', 'Fernando', 'Erin', 'Cesar', 'Amber', 'Javier', 'Alana', 'Miles', 'Ellie', 'Jaiden', 'Breanna', 'Alexis', 'Ana', 'Leonardo', 'Mikayla', 'Santiago', 'Summer', 'Francisco', 'Piper', 'Cayden', 'Adrianna', 'Shane', 'Jillian', 'Edwin', 'Sierra', 'Hudson', 'Jayden', 'Travis', 'Sienna', 'Bryson', 'Alicia', 'Erick', 'Lila', 'Jace', 'Margaret', 'Hector', 'Alivia', 'Josue', 'Brooklynn', 'Peter', 'Karen', 'Jaylen', 'Violet', 'Mario', 'Sabrina', 'Manuel', 'Stella', 'Abraham', 'Aniyah', 'Grayson', 'Annabelle', 'Damien', 'Alexandria', 'Kaiden', 'Kathryn', 'Spencer', 'Skylar', 'Stephen', 'Aliyah', 'Edgar', 'Delilah', 'Wesley', 'Julianna', 'Shawn', 'Kelsey', 'Trenton', 'Khloe', 'Jared', 'Carly', 'Jeffrey', 'Amaya', 'Landen', 'Mariana', 'Johnathan', 'Christina', 'Bradley', 'Alondra', 'Braxton', 'Tessa', 'Ryder', 'Eliana', 'Camden', 'Bianca', 'Roman', 'Jazmin', 'Asher', 'Clara', 'Brendan', 'Vivian', 'Maddox', 'Josephine', 'Sergio', 'Delaney', 'Israel', 'Scarlett', 'Andy', 'Elena', 'Lincoln', 'Cadence', 'Erik', 'Alexia', 'Donovan', 'Maggie', 'Raymond', 'Laura', 'Avery', 'Nora', 'Rylan', 'Ariel', 'Dalton', 'Elise', 'Harrison', 'Nadia', 'Andre', 'Mckenna', 'Martin', 'Chelsea', 'Keegan', 'Lyla', 'Marco', 'Alaina', 'Jude', 'Jasmin', 'Sawyer', 'Hope', 'Dakota', 'Leila', 'Leo', 'Caitlyn', 'Calvin', 'Cassidy', 'Kai', 'Makenna', 'Drake', 'Allie', 'Troy', 'Izabella', 'Zion', 'Eden', 'Clayton', 'Callie', 'Roberto', 'Haylee', 'Zane', 'Caitlin', 'Gregory', 'Kendra', 'Tucker', 'Karina', 'Rafael', 'Kyra', 'Kingston', 'Kayleigh', 'Dominick', 'Addyson', 'Ezekiel', 'Kiara', 'Griffin', 'Jazmine', 'Devon', 'Karla', 'Drew', 'Camryn', 'Lukas', 'Alina', 'Johnny', 'Lola', 'Ty', 'Kyla', 'Pedro', 'Kelly', 'Tyson', 'Fatima', 'Caiden', 'Tiffany', 'Mateo', 'Kira', 'Braylon', 'Crystal', 'Cash', 'Mallory', 'Aden', 'Esmeralda', 'Chance', 'Alejandra', 'Taylor', 'Eleanor', 'Marcos', 'Angelica', 'Maximus', 'Jayda', 'Ruben', 'Abby', 'Emanuel', 'Kara', 'Simon', 'Veronica', 'Corbin', 'Carmen', 'Brennan', 'Jamie', 'Dillon', 'Ryleigh', 'Skyler', 'Valentina', 'Myles', 'Allyson', 'Xander', 'Dakota', 'Jaxson', 'Kamryn', 'Dawson', 'Courtney', 'Kameron', 'Cecilia', 'Kyler', 'Madeleine', 'Axel', 'Aniya', 'Colby', 'Alison', 'Jonas', 'Esther', 'Joaquin', 'Heaven', 'Payton', 'Aubree', 'Brock', 'Lindsey', 'Frank', 'Leilani', 'Enrique', 'Nina', 'Quinn', 'Melody', 'Emilio', 'Macy', 'Malik', 'Ashlynn', 'Grady', 'Joanna', 'Angelo', 'Cassandra', 'Julio', 'Alayna', 'Derrick', 'Kaydence', 'Raul', 'Madilyn', 'Fabian', 'Aurora', 'Corey', 'Heidi', 'Gerardo', 'Emerson', 'Dante', 'Kimora', 'Ezra', 'Madalyn', 'Armando', 'Erica', 'Allen', 'Josie', 'Theodore', 'Katelynn', 'Gael', 'Guadalupe', 'Amir', 'Harper', 'Zander', 'Ivy', 'Adan', 'Lexi', 'Maximilian', 'Camille', 'Randy', 'Savanna', 'Easton', 'Dulce', 'Dustin', 'Daniella', 'Luca', 'Lucia', 'Phillip', 'Emely', 'Julius', 'Joselyn', 'Charlie', 'Kiley', 'Ronald', 'Kailey', 'Jakob', 'Miriam', 'Cade', 'Cynthia', 'Brett', 'Rihanna', 'Trent', 'Georgia', 'Silas', 'Rylie', 'Keith', 'Harmony', 'Emiliano', 'Kiera', 'Trey', 'Kyleigh', 'Jalen', 'Monica', 'Darius', 'Bethany', 'Lane', 'Kaylie', 'Jerry', 'Cameron', 'Jaime', 'Teagan', 'Scott', 'Cora', 'Graham', 'Brynn', 'Weston', 'Ciara', 'Braydon', 'Genevieve', 'Anderson', 'Alice', 'Rodrigo', 'Maddison', 'Pablo', 'Eliza', 'Saul', 'Tatiana', 'Danny', 'Jaelyn', 'Donald', 'Erika', 'Elliot', 'Ximena', 'Brayan', 'April', 'Dallas', 'Marely', 'Lorenzo', 'Julie', 'Casey', 'Danica', 'Mitchell', 'Presley', 'Alberto', 'Brielle', 'Tristen', 'Julissa', 'Rowan', 'Angie', 'Jayson', 'Iris', 'Gustavo', 'Brenda', 'Aaden', 'Hazel', 'Amari', 'Rose', 'Dean', 'Malia', 'Braeden', 'Shayla', 'Declan', 'Fiona', 'Chris', 'Phoebe', 'Ismael', 'Nayeli', 'Dane', 'Paola', 'Louis', 'Kaelyn', 'Arturo', 'Selena', 'Brenden', 'Audrina', 'Felix', 'Rebekah', 'Jimmy', 'Carolina', 'Cohen', 'Janiyah', 'Tony', 'Michaela', 'Holden', 'Penelope', 'Reid', 'Janiya', 'Abel', 'Anastasia', 'Bennett', 'Adeline', 'Zackary', 'Ruth', 'Arthur', 'Sasha', 'Nehemiah', 'Denise', 'Ricky', 'Holly', 'Esteban', 'Madisyn', 'Cruz', 'Hanna', 'Finn', 'Tatum', 'Mauricio', 'Marlee', 'Dennis', 'Nataly', 'Keaton', 'Helen', 'Albert', 'Janelle', 'Marvin', 'Lizbeth', 'Mathew', 'Serena', 'Larry', 'Anya', 'Moises', 'Jaslene', 'Issac', 'Kaylin', 'Philip', 'Jazlyn', 'Quentin', 'Nancy', 'Curtis', 'Lindsay', 'Greyson', 'Desiree', 'Jameson', 'Hayley', 'Everett', 'Itzel', 'Jayce', 'Imani', 'Darren', 'Madelynn', 'Elliott', 'Asia', 'Uriel', 'Kadence', 'Alfredo', 'Madyson', 'Hugo', 'Talia', 'Alec', 'Jane', 'Jamari', 'Kayden', 'Marshall', 'Annie', 'Walter', 'Amari', 'Judah', 'Bridget', 'Jay', 'Raegan', 'Lance', 'Jadyn', 'Beau', 'Celeste', 'Ali', 'Jimena', 'Landyn', 'Luna', 'Yahir', 'Yasmin', 'Phoenix', 'Emilia', 'Nickolas', 'Annika', 'Kobe', 'Estrella', 'Bryant', 'Sarai', 'Maurice', 'Lacey', 'Russell', 'Ayla', 'Leland', 'Alessandra', 'Colten', 'Willow', 'Reed', 'Nyla', 'Davis', 'Dayana', 'Joe', 'Lilah', 'Ernesto', 'Lilliana', 'Desmond', 'Natasha', 'Kade', 'Hadley', 'Reece', 'Harley', 'Morgan', 'Priscilla', 'Ramon', 'Claudia', 'Rocco', 'Allisson', 'Orlando', 'Baylee', 'Ryker', 'Brenna', 'Brodie', 'Brittany', 'Paxton', 'Skyler', 'Jacoby', 'Fernanda', 'Douglas', 'Danna', 'Kristopher', 'Melany', 'Gary', 'Cali', 'Lawrence', 'Lia', 'Izaiah', 'Macie', 'Solomon', 'Lyric', 'Nikolas', 'Logan', 'Mekhi', 'Gloria', 'Justice', 'Lana', 'Tate', 'Mylee', 'Jaydon', 'Cindy', 'Salvador', 'Lilian', 'Shaun', 'Amira', 'Alvin', 'Anahi', 'Eddie', 'Alissa', 'Kane', 'Anaya', 'Davion', 'Lena', 'Zachariah', 'Ainsley', 'Dorian', 'Sandra', 'Titus', 'Noelle', 'Kellen', 'Marisol', 'Camron', 'Meredith', 'Isiah', 'Kailyn', 'Javon', 'Lesly', 'Nasir', 'Johanna', 'Milo', 'Diamond', 'Johan', 'Evangeline', 'Byron', 'Juliet', 'Jasper', 'Kathleen', 'Jonathon', 'Meghan', 'Chad', 'Paisley', 'Marc', 'Athena', 'Kelvin', 'Hailee', 'Chandler', 'Rosa', 'Sam', 'Wendy', 'Cory', 'Emilee', 'Deandre', 'Sage', 'River', 'Alanna', 'Reese', 'Elaina', 'Roger', 'Cara', 'Quinton', 'Nia', 'Talon', 'Paris', 'Romeo', 'Casey', 'Franklin', 'Dana', 'Noel', 'Emery', 'Alijah', 'Rowan', 'Guillermo', 'Aubrie', 'Gunner', 'Kaitlin', 'Damon', 'Jaden', 'Jadon', 'Kenzie', 'Emerson', 'Kiana', 'Micheal', 'Viviana', 'Bruce', 'Norah', 'Terry', 'Lauryn', 'Kolton', 'Perla', 'Melvin', 'Amiyah', 'Beckett', 'Alyson', 'Porter', 'Rachael', 'August', 'Shannon', 'Brycen', 'Aileen', 'Dayton', 'Miracle', 'Jamarion', 'Lillie', 'Leonel', 'Danika', 'Karson', 'Heather', 'Zayden', 'Kassidy', 'Keagan', 'Taryn', 'Carl', 'Tori', 'Khalil', 'Francesca', 'Cristopher', 'Kristen', 'Nelson', 'Amya', 'Braiden', 'Elle', 'Moses', 'Kristina', 'Isaias', 'Cheyanne', 'Roy', 'Haylie', 'Triston', 'Patricia', 'Walker', 'Anne', 'Kale', 'Samara', 'Jermaine', 'Skye', 'Leon', 'Kali', 'Rodney', 'America', 'Kristian', 'Lexie', 'Mohamed', 'Parker', 'Ronan', 'Halle', 'Pierce', 'Londyn', 'Trace', 'Abbigail', 'Warren', 'Linda', 'Jeffery', 'Hallie', 'Maverick', 'Saniya', 'Cyrus', 'Bryanna', 'Quincy', 'Bailee', 'Nathanael', 'Jaylynn', 'Skylar', 'Mckayla', 'Tommy', 'Quinn', 'Conor', 'Jaelynn', 'Noe', 'Jaida', 'Ezequiel', 'Caylee', 'Demetrius', 'Jaiden', 'Jaylin', 'Melina', 'Kendrick', 'Abril', 'Frederick', 'Sidney', 'Terrance', 'Kassandra', 'Bobby', 'Elisabeth', 'Jamison', 'Adalyn', 'Jon', 'Kaylynn', 'Rohan', 'Mercedes', 'Jett', 'Yesenia', 'Kieran', 'Elliana', 'Tobias', 'Brylee', 'Ari', 'Dylan', 'Colt', 'Isabela', 'Gideon', 'Ryan', 'Felipe', 'Ashlee', 'Kenny', 'Daphne', 'Wilson', 'Kenya', 'Orion', 'Marina', 'Kamari', 'Christine', 'Gunnar', 'Mikaela', 'Jessie', 'Kaitlynn', 'Alonzo', 'Justice', 'Gianni', 'Saniyah', 'Omari', 'Jaliyah', 'Waylon', 'Ingrid', 'Malcolm', 'Marie', 'Emmett', 'Natalee', 'Abram', 'Joy', 'Julien', 'Juliette', 'London', 'Simone', 'Tomas', 'Adelaide', 'Allan', 'Krystal', 'Terrell', 'Kennedi', 'Matteo', 'Mila', 'Tristin', 'Tamia', 'Jairo', 'Addisyn', 'Reginald', 'Aylin', 'Brent', 'Dayanara', 'Ahmad', 'Sylvia', 'Yandel', 'Clarissa', 'Rene', 'Maritza', 'Willie', 'Virginia', 'Boston', 'Braelyn', 'Billy', 'Jolie', 'Marlon', 'Jaidyn', 'Trevon', 'Kinsley', 'Aydan', 'Kirsten', 'Jamal', 'Laney', 'Aldo', 'Marilyn', 'Ariel', 'Whitney', 'Cason', 'Janessa', 'Braylen', 'Raquel', 'Javion', 'Anika', 'Joey', 'Kamila', 'Rogelio', 'Aria', 'Ahmed', 'Rubi', 'Dominik', 'Adelyn', 'Brendon', 'Amara', 'Toby', 'Ayanna', 'Kody', 'Teresa', 'Marquis', 'Zariah', 'Ulises', 'Kaleigh', 'Armani', 'Amani', 'Adriel', 'Carla', 'Alfonso', 'Yareli', 'Branden', 'Gwendolyn', 'Will', 'Paulina', 'Craig', 'Nathalie', 'Ibrahim', 'Annabella', 'Osvaldo', 'Jaylin', 'Wade', 'Tabitha', 'Harley', 'Deanna', 'Steve', 'Madalynn', 'Davin', 'Journey', 'Deshawn', 'Aiyana', 'Kason', 'Skyla', 'Damion', 'Yaretzi', 'Jaylon', 'Ada', 'Jefferson', 'Liana', 'Aron', 'Karlee', 'Brooks', 'Jenny', 'Darian', 'Myla', 'Gerald', 'Cristina', 'Rolando', 'Myah', 'Terrence', 'Lisa', 'Enzo', 'Tania', 'Kian', 'Isis', 'Ryland', 'Jayleen', 'Barrett', 'Jordin', 'Jaeden', 'Arely', 'Ben', 'Azul', 'Bradyn', 'Helena', 'Giovani', 'Aryanna', 'Blaine', 'Jaqueline', 'Madden', 'Lucille', 'Jerome', 'Destinee', 'Muhammad', 'Martha', 'Ronnie', 'Zoie', 'Layne', 'Arielle', 'Kolby', 'Liberty', 'Leonard', 'Marlene', 'Vicente', 'Elisa', 'Cale', 'Isla', 'Alessandro', 'Noemi', 'Zachery', 'Raven', 'Gavyn', 'Jessie', 'Aydin', 'Aleah', 'Xzavier', 'Kailee', 'Malakai', 'Kaliyah', 'Raphael', 'Lilyana', 'Cannon', 'Haven', 'Rudy', 'Tara', 'Asa', 'Giana', 'Darrell', 'Camilla', 'Giancarlo', 'Maliyah', 'Elisha', 'Irene', 'Junior', 'Carley', 'Zackery', 'Maeve', 'Alvaro', 'Lea', 'Lewis', 'Macey', 'Valentin', 'Sharon', 'Deacon', 'Alisha', 'Jase', 'Marisa', 'Harry', 'Jaylene', 'Kendall', 'Kaya', 'Rashad', 'Scarlet', 'Finnegan', 'Siena', 'Mohammed', 'Adyson', 'Ramiro', 'Maia', 'Cedric', 'Shiloh', 'Brennen', 'Tiana', 'Santino', 'Jaycee', 'Stanley', 'Gisselle', 'Tyrone', 'Yazmin', 'Chace', 'Eve', 'Francis', 'Shyanne', 'Johnathon', 'Arabella', 'Teagan', 'Sherlyn', 'Zechariah', 'Sariah', 'Alonso', 'Amiya', 'Kaeden', 'Kiersten', 'Kamden', 'Madilynn', 'Gilberto', 'Shania', 'Ray', 'Aleena', 'Karter', 'Finley', 'Luciano', 'Kinley', 'Nico', 'Kaia', 'Kole', 'Aliya', 'Aryan', 'Taliyah', 'Draven', 'Pamela', 'Jamie', 'Yoselin', 'Misael', 'Ellen', 'Lee', 'Carlie', 'Alexzander', 'Monserrat', 'Camren', 'Jakayla', 'Giovanny', 'Reyna', 'Amare', 'Yaritza', 'Rhett', 'Carolyn', 'Rhys', 'Clare', 'Rodolfo', 'Lorelei', 'Nash', 'Paula', 'Markus', 'Zaria', 'Deven', 'Gracelyn', 'Mohammad', 'Kasey', 'Moshe', 'Regan', 'Quintin', 'Alena', 'Dwayne', 'Angelique', 'Memphis', 'Regina', 'Atticus', 'Britney', 'Davian', 'Emilie', 'Eugene', 'Mariam', 'Jax', 'Jaylee', 'Antoine', 'Julianne', 'Wayne', 'Greta', 'Randall', 'Elyse', 'Semaj', 'Lainey', 'Uriah', 'Kallie', 'Clark', 'Felicity', 'Aidyn', 'Zion', 'Jorden', 'Aspen', 'Maxim', 'Carlee', 'Aditya', 'Annalise', 'Lawson', 'Iliana', 'Messiah', 'Larissa', 'Korbin', 'Akira', 'Sullivan', 'Sonia', 'Freddy', 'Catalina', 'Demarcus', 'Phoenix', 'Neil', 'Joslyn', 'Brice', 'Anabelle', 'King', 'Mollie', 'Davon', 'Susan', 'Elvis', 'Judith', 'Ace', 'Destiney', 'Dexter', 'Hillary', 'Heath', 'Janet', 'Duncan', 'Katrina', 'Jamar', 'Mareli', 'Sincere', 'Ansley', 'Irvin', 'Kaylyn', 'Remington', 'Alexus', 'Kadin', 'Gia', 'Soren', 'Maci', 'Tyree', 'Elsa', 'Damarion', 'Stacy', 'Talan', 'Kaylen', 'Adrien', 'Carissa', 'Gilbert', 'Haleigh', 'Keenan', 'Lorena', 'Darnell', 'Jazlynn', 'Adolfo', 'Milagros', 'Tristian', 'Luz', 'Derick', 'Leanna', 'Isai', 'Renee', 'Rylee', 'Shaniya', 'Gauge', 'Charlie', 'Harold', 'Abbie', 'Kareem', 'Cailyn', 'Deangelo', 'Cherish', 'Agustin', 'Elsie', 'Coleman', 'Jazmyn', 'Zavier', 'Elaine', 'Lamar', 'Emmalee', 'Emery', 'Luciana', 'Jaydin', 'Dahlia', 'Devan', 'Jamya', 'Jordyn', 'Belinda', 'Mathias', 'Mariyah', 'Prince', 'Chaya', 'Sage', 'Dayami', 'Seamus', 'Rhianna', 'Jasiah', 'Yadira', 'Efrain', 'Aryana', 'Darryl', 'Rosemary', 'Arjun', 'Armani', 'Mike', 'Cecelia', 'Roland', 'Celia', 'Conrad', 'Barbara', 'Kamron', 'Cristal', 'Hamza', 'Eileen', 'Santos', 'Rayna', 'Frankie', 'Campbell', 'Dominique', 'Amina', 'Marley', 'Aisha', 'Vance', 'Amirah', 'Dax', 'Ally', 'Jamir', 'Araceli', 'Kylan', 'Averie', 'Todd', 'Mayra', 'Maximo', 'Sanaa', 'Jabari', 'Patience', 'Matthias', 'Leyla', 'Haiden', 'Selah', 'Luka', 'Zara', 'Marcelo', 'Chanel', 'Keon', 'Kaiya', 'Layton', 'Keyla', 'Tyrell', 'Miah', 'Kash', 'Aimee', 'Raiden', 'Giovanna', 'Cullen', 'Amelie', 'Donte', 'Kelsie', 'Jovani', 'Alisson', 'Cordell', 'Angeline', 'Kasen', 'Dominique', 'Rory', 'Adrienne', 'Alfred', 'Brisa', 'Darwin', 'Cierra', 'Ernest', 'Paloma', 'Bailey', 'Isabell', 'Gaige', 'Precious', 'Hassan', 'Alma', 'Jamarcus', 'Charity', 'Killian', 'Jacquelyn', 'Augustus', 'Janae', 'Trevin', 'Frances', 'Zain', 'Shyla', 'Ellis', 'Janiah', 'Rex', 'Kierra', 'Yusuf', 'Karlie', 'Bruno', 'Annabel', 'Jaidyn', 'Jacey', 'Justus', 'Karissa', 'Ronin', 'Jaylah', 'Humberto', 'Xiomara', 'Jaquan', 'Edith', 'Josh', 'Marianna', 'Kasey', 'Damaris', 'Winston', 'Deborah', 'Dashawn', 'Jaylyn', 'Lucian', 'Evelin', 'Matias', 'Mara', 'Sidney', 'Olive', 'Ignacio', 'Ayana', 'Nigel', 'India', 'Van', 'Kendal', 'Elian', 'Kayley', 'Finley', 'Tamara', 'Jaron', 'Briley', 'Addison', 'Charlee', 'Aedan', 'Nylah', 'Braedon', 'Abbey', 'Jadyn', 'Moriah', 'Konner', 'Saige', 'Zayne', 'Savanah', 'Franco', 'Giada', 'Niko', 'Hana', 'Savion', 'Lizeth', 'Cristofer', 'Matilda', 'Deon', 'Ann', 'Krish', 'Jazlene', 'Anton', 'Gillian', 'Brogan', 'Beatrice', 'Cael', 'Ireland', 'Coby', 'Karly', 'Kymani', 'Mylie', 'Marcel', 'Yasmine', 'Yair', 'Ashly', 'Dale', 'Kenna', 'Bo', 'Maleah', 'Jordon', 'Corinne', 'Samir', 'Keely', 'Darien', 'Tanya', 'Zaire', 'Tianna', 'Ross', 'Adalynn', 'Vaughn', 'Ryann', 'Devyn', 'Salma', 'Kenyon', 'Areli', 'Clay', 'Karma', 'Dario', 'Shyann', 'Ishaan', 'Kaley', 'Jair', 'Theresa', 'Kael', 'Evie', 'Adonis', 'Gina', 'Jovanny', 'Roselyn', 'Clinton', 'Kaila', 'Rey', 'Jaylen', 'Chaim', 'Natalya', 'German', 'Meadow', 'Harper', 'Rayne', 'Nathen', 'Aliza', 'Rigoberto', 'Yuliana', 'Sonny', 'June', 'Glenn', 'Lilianna', 'Octavio', 'Nathaly', 'Blaze', 'Ali', 'Keshawn', 'Alisa', 'Ralph', 'Aracely', 'Ean', 'Belen', 'Nikhil', 'Tess', 'Rayan', 'Jocelynn', 'Sterling', 'Litzy', 'Branson', 'Makena', 'Jadiel', 'Abagail', 'Dillan', 'Giuliana', 'Jeramiah', 'Joyce', 'Koen', 'Libby', 'Konnor', 'Lillianna', 'Antwan', 'Thalia', 'Houston', 'Tia', 'Tyrese', 'Sarahi', 'Dereon', 'Zaniyah', 'Leonidas', 'Kristin', 'Zack', 'Lorelai', 'Fisher', 'Mattie', 'Jaydan', 'Taniya', 'Quinten', 'Jaslyn', 'Nick', 'Gemma', 'Urijah', 'Valery', 'Darion', 'Lailah', 'Jovan', 'Mckinley', 'Salvatore', 'Micah', 'Beckham', 'Deja', 'Jarrett', 'Frida', 'Antony', 'Brynlee', 'Eden', 'Jewel', 'Makai', 'Krista', 'Zaiden', 'Mira', 'Broderick', 'Yamilet', 'Camryn', 'Adison', 'Malaki', 'Carina', 'Nikolai', 'Karli', 'Howard', 'Magdalena', 'Immanuel', 'Stephany', 'Demarion', 'Charlize', 'Valentino', 'Raelynn', 'Jovanni', 'Aliana', 'Ayaan', 'Cassie', 'Ethen', 'Mina', 'Leandro', 'Karley', 'Royce', 'Shirley', 'Yael', 'Marlie', 'Yosef', 'Alani', 'Jean', 'Taniyah', 'Marquise', 'Cloe', 'Alden', 'Sanai', 'Leroy', 'Lina', 'Gaven', 'Nola', 'Jovany', 'Anabella', 'Tyshawn', 'Dalia', 'Aarav', 'Raina', 'Kadyn', 'Mariela', 'Milton', 'Ariella', 'Zaid', 'Bria', 'Kelton', 'Kamari', 'Tripp', 'Monique', 'Kamren', 'Ashleigh', 'Slade', 'Reina', 'Hezekiah', 'Alia', 'Jakobe', 'Ashanti', 'Nathanial', 'Lara', 'Rishi', 'Lilia', 'Shamar', 'Justine', 'Geovanni', 'Leia', 'Pranav', 'Maribel', 'Roderick', 'Abigayle', 'Bentley', 'Tiara', 'Clarence', 'Alannah', 'Lyric', 'Princess', 'Bernard', 'Sydnee', 'Carmelo', 'Kamora', 'Denzel', 'Paityn', 'Maximillian', 'Payten', 'Reynaldo', 'Naima', 'Cassius', 'Gretchen', 'Gordon', 'Heidy', 'Reuben', 'Nyasia', 'Samson', 'Livia', 'Yadiel', 'Marin', 'Jayvon', 'Shaylee', 'Reilly', 'Maryjane', 'Sheldon', 'Laci', 'Abdullah', 'Nathalia', 'Jagger', 'Azaria', 'Thaddeus', 'Anabel', 'Case', 'Chasity', 'Kyson', 'Emmy', 'Lamont', 'Izabelle', 'Chaz', 'Denisse', 'Makhi', 'Emelia', 'Jan', 'Mireya', 'Marques', 'Shea', 'Oswaldo', 'Amiah', 'Donavan', 'Dixie', 'Keyon', 'Maren', 'Kyan', 'Averi', 'Simeon', 'Esperanza', 'Trystan', 'Micaela', 'Andreas', 'Selina', 'Dangelo', 'Alyvia', 'Landin', 'Chana', 'Reagan', 'Avah', 'Turner', 'Donna', 'Arnav', 'Kaylah', 'Brenton', 'Ashtyn', 'Callum', 'Karsyn', 'Jayvion', 'Makaila', 'Bridger', 'Shayna', 'Sammy', 'Essence', 'Deegan', 'Leticia', 'Jaylan', 'Miya', 'Lennon', 'Rory', 'Odin', 'Desirae', 'Abdiel', 'Kianna', 'Jerimiah', 'Laurel', 'Eliezer', 'Neveah', 'Bronson', 'Amaris', 'Cornelius', 'Hadassah', 'Pierre', 'Dania', 'Cortez', 'Hailie', 'Baron', 'Jamiya', 'Carlo', 'Kathy', 'Carsen', 'Laylah', 'Fletcher', 'Riya', 'Izayah', 'Diya', 'Kolten', 'Carleigh', 'Damari', 'Iyana', 'Hugh', 'Kenley', 'Jensen', 'Sloane', 'Yurem', 'Elianna', 'Note', 'Rank', 'Privacy', 'Policy', 'Website', 'Policies', 'Other', 'Important', 'Information', 'Site', 'Map']\n"
     ]
    }
   ],
   "source": [
    "import os\n",
    "import re\n",
    "\n",
    "# Set the path to your Downloads folder and HTML file\n",
    "downloads = os.path.join(os.path.expanduser(\"~\"), \"Downloads\")\n",
    "file_path = os.path.join(downloads, \"baby2008.html\")  # Use your actual file name\n",
    "\n",
    "# Read HTML content\n",
    "with open(file_path, \"r\", encoding=\"utf-8\") as f:\n",
    "    content = f.read()\n",
    "\n",
    "# Extract capitalized words (simple name pattern)\n",
    "baby_names = re.findall(r'\\b[A-Z][a-z]{1,}\\b', content)\n",
    "\n",
    "# Print the extracted names\n",
    "print(\"Baby Names Found:\", baby_names)\n"
   ]
  },
  {
   "cell_type": "markdown",
   "id": "85420a5e-a291-4362-be79-e1762f534591",
   "metadata": {},
   "source": [
    "### 3b. Create a sort algorithm"
   ]
  },
  {
   "cell_type": "code",
   "execution_count": 8,
   "id": "a4bcc2b4-f17b-4afd-83cb-b74ed1fb4750",
   "metadata": {},
   "outputs": [
    {
     "name": "stdout",
     "output_type": "stream",
     "text": [
      "Sorted Baby Names: ['Aaden', 'Aaliyah', 'Aarav', 'Aaron', 'Abagail', 'Abbey', 'Abbie', 'Abbigail', 'Abby', 'Abdiel', 'Abdullah', 'Abel', 'Abigail', 'Abigayle', 'Abraham', 'Abram', 'Abril', 'Ace', 'Ada', 'Adalyn', 'Adalynn', 'Adam', 'Adan', 'Addison', 'Addison', 'Addisyn', 'Addyson', 'Adelaide', 'Adeline', 'Adelyn', 'Aden', 'Adison', 'Aditya', 'Adolfo', 'Adonis', 'Adrian', 'Adriana', 'Adrianna', 'Adriel', 'Adrien', 'Adrienne', 'Adyson', 'Aedan', 'Agustin', 'Ahmad', 'Ahmed', 'Aidan', 'Aiden', 'Aidyn', 'Aileen', 'Aimee', 'Ainsley', 'Aisha', 'Aiyana', 'Akira', 'Alaina', 'Alan', 'Alana', 'Alani', 'Alanna', 'Alannah', 'Alayna', 'Albert', 'Alberto', 'Alden', 'Aldo', 'Aleah', 'Alec', 'Aleena', 'Alejandra', 'Alejandro', 'Alena', 'Alessandra', 'Alessandro', 'Alex', 'Alexa', 'Alexander', 'Alexandra', 'Alexandria', 'Alexia', 'Alexis', 'Alexis', 'Alexus', 'Alexzander', 'Alfonso', 'Alfred', 'Alfredo', 'Ali', 'Ali', 'Alia', 'Aliana', 'Alice', 'Alicia', 'Alijah', 'Alina', 'Alisa', 'Alisha', 'Alison', 'Alissa', 'Alisson', 'Alivia', 'Aliya', 'Aliyah', 'Aliza', 'Allan', 'Allen', 'Allie', 'Allison', 'Allisson', 'Ally', 'Allyson', 'Alma', 'Alondra', 'Alonso', 'Alonzo', 'Alvaro', 'Alvin', 'Alyson', 'Alyssa', 'Alyvia', 'Amanda', 'Amani', 'Amara', 'Amare', 'Amari', 'Amari', 'Amaris', 'Amaya', 'Amber', 'Amelia', 'Amelie', 'America', 'Amiah', 'Amina', 'Amir', 'Amira', 'Amirah', 'Amiya', 'Amiyah', 'Amy', 'Amya', 'Ana', 'Anabel', 'Anabella', 'Anabelle', 'Anahi', 'Anastasia', 'Anaya', 'Anderson', 'Andre', 'Andrea', 'Andreas', 'Andres', 'Andrew', 'Andy', 'Angel', 'Angel', 'Angela', 'Angelica', 'Angelina', 'Angeline', 'Angelique', 'Angelo', 'Angie', 'Anika', 'Aniya', 'Aniyah', 'Ann', 'Anna', 'Annabel', 'Annabella', 'Annabelle', 'Annalise', 'Anne', 'Annie', 'Annika', 'Ansley', 'Anthony', 'Antoine', 'Anton', 'Antonio', 'Antony', 'Antwan', 'Anya', 'April', 'Arabella', 'Araceli', 'Aracely', 'Areli', 'Arely', 'Ari', 'Aria', 'Ariana', 'Arianna', 'Ariel', 'Ariel', 'Ariella', 'Arielle', 'Arjun', 'Armando', 'Armani', 'Armani', 'Arnav', 'Aron', 'Arthur', 'Arturo', 'Aryan', 'Aryana', 'Aryanna', 'Asa', 'Ashanti', 'Asher', 'Ashlee', 'Ashleigh', 'Ashley', 'Ashly', 'Ashlyn', 'Ashlynn', 'Ashton', 'Ashtyn', 'Asia', 'Aspen', 'Athena', 'Atticus', 'Aubree', 'Aubrey', 'Aubrie', 'Audrey', 'Audrina', 'August', 'Augustus', 'Aurora', 'Austin', 'Autumn', 'Ava', 'Avah', 'Averi', 'Averie', 'Avery', 'Avery', 'Axel', 'Ayaan', 'Ayana', 'Ayanna', 'Aydan', 'Ayden', 'Aydin', 'Ayla', 'Aylin', 'Azaria', 'Azul', 'Baby', 'Baby', 'Baby', 'Background', 'Bailee', 'Bailey', 'Bailey', 'Barbara', 'Baron', 'Barrett', 'Baylee', 'Beatrice', 'Beau', 'Beckett', 'Beckham', 'Belen', 'Belinda', 'Bella', 'Ben', 'Benjamin', 'Bennett', 'Bentley', 'Bernard', 'Bethany', 'Bianca', 'Billy', 'Birth', 'Blaine', 'Blake', 'Blaze', 'Bo', 'Bobby', 'Boston', 'Braden', 'Bradley', 'Brady', 'Bradyn', 'Braeden', 'Braedon', 'Braelyn', 'Braiden', 'Branden', 'Brandon', 'Branson', 'Braxton', 'Brayan', 'Brayden', 'Braydon', 'Braylen', 'Braylon', 'Breanna', 'Brenda', 'Brendan', 'Brenden', 'Brendon', 'Brenna', 'Brennan', 'Brennen', 'Brent', 'Brenton', 'Brett', 'Bria', 'Brian', 'Briana', 'Brianna', 'Brice', 'Bridger', 'Bridget', 'Brielle', 'Briley', 'Brisa', 'Britney', 'Brittany', 'Brock', 'Broderick', 'Brodie', 'Brody', 'Brogan', 'Bronson', 'Brooke', 'Brooklyn', 'Brooklynn', 'Brooks', 'Bruce', 'Bruno', 'Bryan', 'Bryanna', 'Bryant', 'Bryce', 'Brycen', 'Brylee', 'Brynlee', 'Brynn', 'Bryson', 'Byron', 'Cade', 'Caden', 'Cadence', 'Cael', 'Caiden', 'Cailyn', 'Caitlin', 'Caitlyn', 'Cale', 'Caleb', 'Cali', 'Callie', 'Callum', 'Calvin', 'Camden', 'Cameron', 'Cameron', 'Camila', 'Camilla', 'Camille', 'Campbell', 'Camren', 'Camron', 'Camryn', 'Camryn', 'Cannon', 'Cara', 'Carina', 'Carissa', 'Carl', 'Carla', 'Carlee', 'Carleigh', 'Carley', 'Carlie', 'Carlo', 'Carlos', 'Carly', 'Carmelo', 'Carmen', 'Carolina', 'Caroline', 'Carolyn', 'Carsen', 'Carson', 'Carter', 'Case', 'Casey', 'Casey', 'Cash', 'Cason', 'Cassandra', 'Cassidy', 'Cassie', 'Cassius', 'Catalina', 'Catherine', 'Cayden', 'Caylee', 'Cecelia', 'Cecilia', 'Cedric', 'Celeste', 'Celia', 'Cesar', 'Chace', 'Chad', 'Chaim', 'Chana', 'Chance', 'Chandler', 'Chanel', 'Charity', 'Charlee', 'Charles', 'Charlie', 'Charlie', 'Charlize', 'Charlotte', 'Chase', 'Chasity', 'Chaya', 'Chaz', 'Chelsea', 'Cherish', 'Cheyanne', 'Cheyenne', 'Chloe', 'Chris', 'Christian', 'Christina', 'Christine', 'Christopher', 'Ciara', 'Cierra', 'Cindy', 'Claire', 'Clara', 'Clare', 'Clarence', 'Clarissa', 'Clark', 'Claudia', 'Clay', 'Clayton', 'Clinton', 'Cloe', 'Coby', 'Cody', 'Cohen', 'Colby', 'Cole', 'Coleman', 'Colin', 'Collin', 'Colt', 'Colten', 'Colton', 'Conner', 'Connor', 'Conor', 'Conrad', 'Cooper', 'Cora', 'Corbin', 'Cordell', 'Corey', 'Corinne', 'Cornelius', 'Cortez', 'Cory', 'Courtney', 'Craig', 'Cristal', 'Cristian', 'Cristina', 'Cristofer', 'Cristopher', 'Cruz', 'Crystal', 'Cullen', 'Curtis', 'Cynthia', 'Cyrus', 'Dahlia', 'Daisy', 'Dakota', 'Dakota', 'Dale', 'Dalia', 'Dallas', 'Dalton', 'Damari', 'Damarion', 'Damaris', 'Damian', 'Damien', 'Damion', 'Damon', 'Dana', 'Dane', 'Dangelo', 'Dania', 'Danica', 'Daniel', 'Daniela', 'Daniella', 'Danielle', 'Danika', 'Danna', 'Danny', 'Dante', 'Daphne', 'Darian', 'Darien', 'Dario', 'Darion', 'Darius', 'Darnell', 'Darrell', 'Darren', 'Darryl', 'Darwin', 'Dashawn', 'Davian', 'David', 'Davin', 'Davion', 'Davis', 'Davon', 'Dawson', 'Dax', 'Dayami', 'Dayana', 'Dayanara', 'Dayton', 'Deacon', 'Dean', 'Deandre', 'Deangelo', 'Deanna', 'Deborah', 'December', 'Declan', 'Deegan', 'Deja', 'Delaney', 'Delilah', 'Demarcus', 'Demarion', 'Demetrius', 'Denise', 'Denisse', 'Dennis', 'Denzel', 'Deon', 'Derek', 'Dereon', 'Derick', 'Derrick', 'Deshawn', 'Desirae', 'Desiree', 'Desmond', 'Destinee', 'Destiney', 'Destiny', 'Devan', 'Deven', 'Devin', 'Devon', 'Devyn', 'Dexter', 'Diamond', 'Diana', 'Diego', 'Dillan', 'Dillon', 'Dixie', 'Diya', 'Dominic', 'Dominick', 'Dominik', 'Dominique', 'Dominique', 'Donald', 'Donavan', 'Donna', 'Donovan', 'Donte', 'Dorian', 'Douglas', 'Drake', 'Draven', 'Drew', 'Dulce', 'Duncan', 'Dustin', 'Dwayne', 'Dylan', 'Dylan', 'Ean', 'Easton', 'Eddie', 'Eden', 'Eden', 'Edgar', 'Edith', 'Eduardo', 'Edward', 'Edwin', 'Efrain', 'Eileen', 'Elaina', 'Elaine', 'Eleanor', 'Elena', 'Eli', 'Elian', 'Eliana', 'Elianna', 'Elias', 'Eliezer', 'Elijah', 'Elisa', 'Elisabeth', 'Elise', 'Elisha', 'Eliza', 'Elizabeth', 'Ella', 'Elle', 'Ellen', 'Elliana', 'Ellie', 'Elliot', 'Elliott', 'Ellis', 'Elsa', 'Elsie', 'Elvis', 'Elyse', 'Emanuel', 'Emelia', 'Emely', 'Emerson', 'Emerson', 'Emery', 'Emery', 'Emilee', 'Emilia', 'Emiliano', 'Emilie', 'Emilio', 'Emily', 'Emma', 'Emmalee', 'Emmanuel', 'Emmett', 'Emmy', 'Enrique', 'Enzo', 'Eric', 'Erica', 'Erick', 'Erik', 'Erika', 'Erin', 'Ernest', 'Ernesto', 'Esmeralda', 'Esperanza', 'Essence', 'Esteban', 'Esther', 'Estrella', 'Ethan', 'Ethen', 'Eugene', 'Eva', 'Evan', 'Evangeline', 'Eve', 'Evelin', 'Evelyn', 'Everett', 'Evie', 'Ezekiel', 'Ezequiel', 'Ezra', 'Fabian', 'Faith', 'Fatima', 'Felicity', 'Felipe', 'Felix', 'Female', 'Fernanda', 'Fernando', 'Finley', 'Finley', 'Finn', 'Finnegan', 'Fiona', 'Fisher', 'Fletcher', 'Frances', 'Francesca', 'Francis', 'Francisco', 'Franco', 'Frank', 'Frankie', 'Franklin', 'Freddy', 'Frederick', 'Frida', 'Gabriel', 'Gabriela', 'Gabriella', 'Gabrielle', 'Gael', 'Gage', 'Gaige', 'Garrett', 'Gary', 'Gauge', 'Gaven', 'Gavin', 'Gavyn', 'Gemma', 'Genesis', 'Genevieve', 'George', 'Georgia', 'Geovanni', 'Gerald', 'Gerardo', 'German', 'Gia', 'Giada', 'Giana', 'Giancarlo', 'Gianna', 'Gianni', 'Gideon', 'Gilbert', 'Gilberto', 'Gillian', 'Gina', 'Giovani', 'Giovanna', 'Giovanni', 'Giovanny', 'Giselle', 'Gisselle', 'Giuliana', 'Glenn', 'Gloria', 'Go', 'Gordon', 'Grace', 'Gracelyn', 'Gracie', 'Grady', 'Graham', 'Grant', 'Grayson', 'Gregory', 'Greta', 'Gretchen', 'Greyson', 'Griffin', 'Guadalupe', 'Guillermo', 'Gunnar', 'Gunner', 'Gustavo', 'Gwendolyn', 'Hadassah', 'Hadley', 'Haiden', 'Hailee', 'Hailey', 'Hailie', 'Haleigh', 'Haley', 'Halle', 'Hallie', 'Hamza', 'Hana', 'Hanna', 'Hannah', 'Harley', 'Harley', 'Harmony', 'Harold', 'Harper', 'Harper', 'Harrison', 'Harry', 'Hassan', 'Haven', 'Hayden', 'Hayden', 'Haylee', 'Hayley', 'Haylie', 'Hazel', 'Heath', 'Heather', 'Heaven', 'Hector', 'Heidi', 'Heidy', 'Helen', 'Helena', 'Henry', 'Hezekiah', 'Hillary', 'Holden', 'Holly', 'Hope', 'Houston', 'Howard', 'Hudson', 'Hugh', 'Hugo', 'Humberto', 'Hunter', 'Ian', 'Ibrahim', 'Ignacio', 'Iliana', 'Imani', 'Immanuel', 'Important', 'India', 'Information', 'Ingrid', 'Ireland', 'Irene', 'Iris', 'Irvin', 'Isaac', 'Isabel', 'Isabela', 'Isabell', 'Isabella', 'Isabelle', 'Isai', 'Isaiah', 'Isaias', 'Ishaan', 'Isiah', 'Isis', 'Isla', 'Ismael', 'Israel', 'Issac', 'Itzel', 'Ivan', 'Ivy', 'Iyana', 'Izabella', 'Izabelle', 'Izaiah', 'Izayah', 'Jabari', 'Jace', 'Jacey', 'Jack', 'Jackson', 'Jacob', 'Jacoby', 'Jacqueline', 'Jacquelyn', 'Jada', 'Jade', 'Jaden', 'Jaden', 'Jadiel', 'Jadon', 'Jadyn', 'Jadyn', 'Jaeden', 'Jaelyn', 'Jaelynn', 'Jagger', 'Jaida', 'Jaiden', 'Jaiden', 'Jaidyn', 'Jaidyn', 'Jaime', 'Jair', 'Jairo', 'Jakayla', 'Jake', 'Jakob', 'Jakobe', 'Jalen', 'Jaliyah', 'Jamal', 'Jamar', 'Jamarcus', 'Jamari', 'Jamarion', 'James', 'Jameson', 'Jamie', 'Jamie', 'Jamir', 'Jamison', 'Jamiya', 'Jamya', 'Jan', 'Janae', 'Jane', 'Janelle', 'Janessa', 'Janet', 'Janiah', 'Janiya', 'Janiyah', 'Jaquan', 'Jaqueline', 'Jared', 'Jaron', 'Jarrett', 'Jase', 'Jasiah', 'Jaslene', 'Jaslyn', 'Jasmin', 'Jasmine', 'Jason', 'Jasper', 'Javier', 'Javion', 'Javon', 'Jax', 'Jaxon', 'Jaxson', 'Jay', 'Jayce', 'Jaycee', 'Jayda', 'Jaydan', 'Jayden', 'Jayden', 'Jaydin', 'Jaydon', 'Jayla', 'Jaylah', 'Jaylan', 'Jaylee', 'Jayleen', 'Jaylen', 'Jaylen', 'Jaylene', 'Jaylin', 'Jaylin', 'Jaylon', 'Jaylyn', 'Jaylynn', 'Jayson', 'Jayvion', 'Jayvon', 'Jazlene', 'Jazlyn', 'Jazlynn', 'Jazmin', 'Jazmine', 'Jazmyn', 'Jean', 'Jefferson', 'Jeffery', 'Jeffrey', 'Jenna', 'Jennifer', 'Jenny', 'Jensen', 'Jeramiah', 'Jeremiah', 'Jeremy', 'Jerimiah', 'Jermaine', 'Jerome', 'Jerry', 'Jesse', 'Jessica', 'Jessie', 'Jessie', 'Jesus', 'Jett', 'Jewel', 'Jillian', 'Jimena', 'Jimmy', 'Joanna', 'Joaquin', 'Jocelyn', 'Jocelynn', 'Joe', 'Joel', 'Joey', 'Johan', 'Johanna', 'John', 'Johnathan', 'Johnathon', 'Johnny', 'Jolie', 'Jon', 'Jonah', 'Jonas', 'Jonathan', 'Jonathon', 'Jordan', 'Jordan', 'Jorden', 'Jordin', 'Jordon', 'Jordyn', 'Jordyn', 'Jorge', 'Jose', 'Joselyn', 'Joseph', 'Josephine', 'Josh', 'Joshua', 'Josiah', 'Josie', 'Joslyn', 'Josue', 'Journey', 'Jovan', 'Jovani', 'Jovanni', 'Jovanny', 'Jovany', 'Joy', 'Joyce', 'Juan', 'Judah', 'Jude', 'Judith', 'Julia', 'Julian', 'Juliana', 'Julianna', 'Julianne', 'Julie', 'Julien', 'Juliet', 'Juliette', 'Julio', 'Julissa', 'Julius', 'June', 'Junior', 'Justice', 'Justice', 'Justin', 'Justine', 'Justus', 'Kade', 'Kaden', 'Kadence', 'Kadin', 'Kadyn', 'Kaeden', 'Kael', 'Kaelyn', 'Kai', 'Kaia', 'Kaiden', 'Kaila', 'Kailee', 'Kailey', 'Kailyn', 'Kaitlin', 'Kaitlyn', 'Kaitlynn', 'Kaiya', 'Kale', 'Kaleb', 'Kaleigh', 'Kaley', 'Kali', 'Kaliyah', 'Kallie', 'Kamari', 'Kamari', 'Kamden', 'Kameron', 'Kamila', 'Kamora', 'Kamren', 'Kamron', 'Kamryn', 'Kane', 'Kara', 'Kareem', 'Karen', 'Karina', 'Karissa', 'Karla', 'Karlee', 'Karley', 'Karli', 'Karlie', 'Karly', 'Karma', 'Karson', 'Karsyn', 'Karter', 'Kasen', 'Kasey', 'Kasey', 'Kash', 'Kason', 'Kassandra', 'Kassidy', 'Kate', 'Katelyn', 'Katelynn', 'Katherine', 'Kathleen', 'Kathryn', 'Kathy', 'Katie', 'Katrina', 'Kaya', 'Kayden', 'Kayden', 'Kaydence', 'Kayla', 'Kaylah', 'Kaylee', 'Kayleigh', 'Kaylen', 'Kayley', 'Kaylie', 'Kaylin', 'Kaylyn', 'Kaylynn', 'Keagan', 'Keaton', 'Keegan', 'Keely', 'Keenan', 'Keira', 'Keith', 'Kellen', 'Kelly', 'Kelsey', 'Kelsie', 'Kelton', 'Kelvin', 'Kendal', 'Kendall', 'Kendall', 'Kendra', 'Kendrick', 'Kenley', 'Kenna', 'Kennedi', 'Kennedy', 'Kenneth', 'Kenny', 'Kenya', 'Kenyon', 'Kenzie', 'Keon', 'Keshawn', 'Kevin', 'Keyla', 'Keyon', 'Khalil', 'Khloe', 'Kian', 'Kiana', 'Kianna', 'Kiara', 'Kiera', 'Kieran', 'Kierra', 'Kiersten', 'Kiley', 'Killian', 'Kimberly', 'Kimora', 'King', 'Kingston', 'Kinley', 'Kinsley', 'Kira', 'Kirsten', 'Kobe', 'Kody', 'Koen', 'Kolby', 'Kole', 'Kolten', 'Kolton', 'Konner', 'Konnor', 'Korbin', 'Krish', 'Krista', 'Kristen', 'Kristian', 'Kristin', 'Kristina', 'Kristopher', 'Krystal', 'Kyan', 'Kyla', 'Kylan', 'Kyle', 'Kylee', 'Kyleigh', 'Kyler', 'Kylie', 'Kymani', 'Kyra', 'Kyson', 'Lacey', 'Laci', 'Laila', 'Lailah', 'Lainey', 'Lamar', 'Lamont', 'Lana', 'Lance', 'Landen', 'Landin', 'Landon', 'Landyn', 'Lane', 'Laney', 'Lara', 'Larissa', 'Larry', 'Laura', 'Laurel', 'Lauren', 'Lauryn', 'Lawrence', 'Lawson', 'Layla', 'Laylah', 'Layne', 'Layton', 'Lea', 'Leah', 'Leandro', 'Leanna', 'Lee', 'Leia', 'Leila', 'Leilani', 'Leland', 'Lena', 'Lennon', 'Leo', 'Leon', 'Leonard', 'Leonardo', 'Leonel', 'Leonidas', 'Leroy', 'Leslie', 'Lesly', 'Leticia', 'Levi', 'Lewis', 'Lexi', 'Lexie', 'Leyla', 'Lia', 'Liam', 'Liana', 'Libby', 'Liberty', 'Lila', 'Lilah', 'Lilia', 'Lilian', 'Liliana', 'Lilianna', 'Lillian', 'Lilliana', 'Lillianna', 'Lillie', 'Lilly', 'Lily', 'Lilyana', 'Lina', 'Lincoln', 'Linda', 'Lindsay', 'Lindsey', 'Lisa', 'Litzy', 'Livia', 'Lizbeth', 'Lizeth', 'Logan', 'Logan', 'Lola', 'London', 'London', 'Londyn', 'Lorelai', 'Lorelei', 'Lorena', 'Lorenzo', 'Louis', 'Luca', 'Lucas', 'Lucia', 'Lucian', 'Luciana', 'Luciano', 'Lucille', 'Lucy', 'Luis', 'Luka', 'Lukas', 'Luke', 'Luna', 'Luz', 'Lydia', 'Lyla', 'Lyric', 'Lyric', 'Macey', 'Maci', 'Macie', 'Mackenzie', 'Macy', 'Madalyn', 'Madalynn', 'Madden', 'Maddison', 'Maddox', 'Madeleine', 'Madeline', 'Madelyn', 'Madelynn', 'Madilyn', 'Madilynn', 'Madison', 'Madisyn', 'Madyson', 'Maeve', 'Magdalena', 'Maggie', 'Maia', 'Makai', 'Makaila', 'Makayla', 'Makena', 'Makenna', 'Makenzie', 'Makhi', 'Malachi', 'Malakai', 'Malaki', 'Malcolm', 'Male', 'Maleah', 'Malia', 'Malik', 'Maliyah', 'Mallory', 'Manuel', 'Map', 'Mara', 'Marc', 'Marcel', 'Marcelo', 'Marco', 'Marcos', 'Marcus', 'Mareli', 'Marely', 'Maren', 'Margaret', 'Maria', 'Mariah', 'Mariam', 'Mariana', 'Marianna', 'Maribel', 'Marie', 'Mariela', 'Marilyn', 'Marin', 'Marina', 'Mario', 'Marisa', 'Marisol', 'Marissa', 'Maritza', 'Mariyah', 'Mark', 'Markus', 'Marlee', 'Marlene', 'Marley', 'Marley', 'Marlie', 'Marlon', 'Marques', 'Marquis', 'Marquise', 'Marshall', 'Martha', 'Martin', 'Marvin', 'Mary', 'Maryjane', 'Mason', 'Mateo', 'Mathew', 'Mathias', 'Matias', 'Matilda', 'Matteo', 'Matthew', 'Matthias', 'Mattie', 'Maurice', 'Mauricio', 'Maverick', 'Max', 'Maxim', 'Maximilian', 'Maximillian', 'Maximo', 'Maximus', 'Maxwell', 'Maya', 'Mayra', 'Mckayla', 'Mckenna', 'Mckenzie', 'Mckinley', 'Meadow', 'Megan', 'Meghan', 'Mekhi', 'Melanie', 'Melany', 'Melina', 'Melissa', 'Melody', 'Melvin', 'Memphis', 'Mercedes', 'Meredith', 'Messiah', 'Mia', 'Miah', 'Micaela', 'Micah', 'Micah', 'Michael', 'Michaela', 'Micheal', 'Michelle', 'Miguel', 'Mikaela', 'Mikayla', 'Mike', 'Mila', 'Milagros', 'Miles', 'Miley', 'Milo', 'Milton', 'Mina', 'Mira', 'Miracle', 'Miranda', 'Mireya', 'Miriam', 'Misael', 'Mitchell', 'Miya', 'Mohamed', 'Mohammad', 'Mohammed', 'Moises', 'Mollie', 'Molly', 'Monica', 'Monique', 'Monserrat', 'Morgan', 'Morgan', 'Moriah', 'Moses', 'Moshe', 'Muhammad', 'Mya', 'Myah', 'Myla', 'Mylee', 'Myles', 'Mylie', 'Nadia', 'Naima', 'Names', 'Names', 'Names', 'Names', 'Nancy', 'Naomi', 'Nash', 'Nasir', 'Natalee', 'Natalia', 'Natalie', 'Nataly', 'Natalya', 'Natasha', 'Nathalia', 'Nathalie', 'Nathaly', 'Nathan', 'Nathanael', 'Nathanial', 'Nathaniel', 'Nathen', 'Nayeli', 'Nehemiah', 'Neil', 'Nelson', 'Nevaeh', 'Neveah', 'Nia', 'Nicholas', 'Nick', 'Nickolas', 'Nico', 'Nicolas', 'Nicole', 'Nigel', 'Nikhil', 'Niko', 'Nikolai', 'Nikolas', 'Nina', 'Noah', 'Noe', 'Noel', 'Noelle', 'Noemi', 'Nola', 'Nolan', 'Nora', 'Norah', 'Note', 'Nyasia', 'Nyla', 'Nylah', 'Octavio', 'Odin', 'Olive', 'Oliver', 'Olivia', 'Omar', 'Omari', 'Online', 'Orion', 'Orlando', 'Oscar', 'Osvaldo', 'Oswaldo', 'Other', 'Owen', 'Pablo', 'Paige', 'Paisley', 'Paityn', 'Paloma', 'Pamela', 'Paola', 'Paris', 'Parker', 'Parker', 'Patience', 'Patricia', 'Patrick', 'Paul', 'Paula', 'Paulina', 'Paxton', 'Payten', 'Payton', 'Payton', 'Pedro', 'Penelope', 'Perla', 'Peter', 'Peyton', 'Peyton', 'Philip', 'Phillip', 'Phoebe', 'Phoenix', 'Phoenix', 'Pierce', 'Pierre', 'Piper', 'Policies', 'Policy', 'Popular', 'Popular', 'Popular', 'Popular', 'Popularity', 'Popularity', 'Porter', 'Pranav', 'Precious', 'Presley', 'Preston', 'Prince', 'Princess', 'Priscilla', 'Privacy', 'Quentin', 'Quincy', 'Quinn', 'Quinn', 'Quinten', 'Quintin', 'Quinton', 'Rachael', 'Rachel', 'Raegan', 'Raelynn', 'Rafael', 'Raiden', 'Raina', 'Ralph', 'Ramiro', 'Ramon', 'Randall', 'Randy', 'Rank', 'Rank', 'Raphael', 'Raquel', 'Rashad', 'Raul', 'Raven', 'Ray', 'Rayan', 'Raymond', 'Rayna', 'Rayne', 'Reagan', 'Reagan', 'Rebecca', 'Rebekah', 'Reece', 'Reed', 'Reese', 'Reese', 'Regan', 'Regina', 'Reginald', 'Reid', 'Reilly', 'Reina', 'Remington', 'Rene', 'Renee', 'Reuben', 'Rex', 'Rey', 'Reyna', 'Reynaldo', 'Rhett', 'Rhianna', 'Rhys', 'Ricardo', 'Richard', 'Ricky', 'Rigoberto', 'Rihanna', 'Riley', 'Riley', 'Rishi', 'River', 'Riya', 'Robert', 'Roberto', 'Rocco', 'Roderick', 'Rodney', 'Rodolfo', 'Rodrigo', 'Rogelio', 'Roger', 'Rohan', 'Roland', 'Rolando', 'Roman', 'Romeo', 'Ronald', 'Ronan', 'Ronin', 'Ronnie', 'Rory', 'Rory', 'Rosa', 'Rose', 'Roselyn', 'Rosemary', 'Ross', 'Rowan', 'Rowan', 'Roy', 'Royce', 'Ruben', 'Rubi', 'Ruby', 'Rudy', 'Russell', 'Ruth', 'Ryan', 'Ryan', 'Ryann', 'Ryder', 'Ryker', 'Rylan', 'Ryland', 'Rylee', 'Rylee', 'Ryleigh', 'Rylie', 'Sabrina', 'Sadie', 'Sage', 'Sage', 'Saige', 'Salma', 'Salvador', 'Salvatore', 'Sam', 'Samantha', 'Samara', 'Samir', 'Sammy', 'Samson', 'Samuel', 'Sanaa', 'Sanai', 'Sandra', 'Saniya', 'Saniyah', 'Santiago', 'Santino', 'Santos', 'Sara', 'Sarah', 'Sarahi', 'Sarai', 'Sariah', 'Sasha', 'Saul', 'Savanah', 'Savanna', 'Savannah', 'Savion', 'Sawyer', 'Scarlet', 'Scarlett', 'Scott', 'Seamus', 'Sean', 'Sebastian', 'Security', 'Security', 'Selah', 'Select', 'Selena', 'Selina', 'Semaj', 'Serena', 'Serenity', 'Sergio', 'Seth', 'Shamar', 'Shane', 'Shania', 'Shaniya', 'Shannon', 'Sharon', 'Shaun', 'Shawn', 'Shayla', 'Shaylee', 'Shayna', 'Shea', 'Shelby', 'Sheldon', 'Sherlyn', 'Shiloh', 'Shirley', 'Shyann', 'Shyanne', 'Shyla', 'Sidney', 'Sidney', 'Siena', 'Sienna', 'Sierra', 'Silas', 'Simeon', 'Simon', 'Simone', 'Sincere', 'Site', 'Skye', 'Skyla', 'Skylar', 'Skylar', 'Skyler', 'Skyler', 'Slade', 'Sloane', 'Social', 'Social', 'Sofia', 'Solomon', 'Sonia', 'Sonny', 'Sophia', 'Sophie', 'Soren', 'Spencer', 'Stacy', 'Stanley', 'Stella', 'Stephanie', 'Stephany', 'Stephen', 'Sterling', 'Steve', 'Steven', 'Sullivan', 'Summer', 'Susan', 'Sydnee', 'Sydney', 'Sylvia', 'Tabitha', 'Talan', 'Talia', 'Taliyah', 'Talon', 'Tamara', 'Tamia', 'Tania', 'Taniya', 'Taniyah', 'Tanner', 'Tanya', 'Tara', 'Taryn', 'Tate', 'Tatiana', 'Tatum', 'Taylor', 'Taylor', 'Teagan', 'Teagan', 'Teresa', 'Terrance', 'Terrell', 'Terrence', 'Terry', 'Tess', 'Tessa', 'Thaddeus', 'Thalia', 'Theodore', 'Theresa', 'Thomas', 'Tia', 'Tiana', 'Tianna', 'Tiara', 'Tiffany', 'Timothy', 'Titus', 'Tobias', 'Toby', 'Todd', 'Tomas', 'Tommy', 'Tony', 'Tori', 'Trace', 'Travis', 'Trent', 'Trenton', 'Trevin', 'Trevon', 'Trevor', 'Trey', 'Trinity', 'Tripp', 'Tristan', 'Tristen', 'Tristian', 'Tristin', 'Triston', 'Troy', 'Trystan', 'Tucker', 'Turner', 'Ty', 'Tyler', 'Tyree', 'Tyrell', 'Tyrese', 'Tyrone', 'Tyshawn', 'Tyson', 'Ulises', 'Uriah', 'Uriel', 'Urijah', 'Valentin', 'Valentina', 'Valentino', 'Valeria', 'Valerie', 'Valery', 'Van', 'Vance', 'Vanessa', 'Vaughn', 'Veronica', 'Vicente', 'Victor', 'Victoria', 'Vincent', 'Violet', 'Virginia', 'Vivian', 'Viviana', 'Wade', 'Walker', 'Walter', 'Warren', 'Waylon', 'Wayne', 'Website', 'Wendy', 'Wesley', 'Weston', 'Whitney', 'Will', 'William', 'Willie', 'Willow', 'Wilson', 'Winston', 'Wyatt', 'Xander', 'Xavier', 'Ximena', 'Xiomara', 'Xzavier', 'Yadiel', 'Yadira', 'Yael', 'Yahir', 'Yair', 'Yamilet', 'Yandel', 'Yareli', 'Yaretzi', 'Yaritza', 'Yasmin', 'Yasmine', 'Yazmin', 'Year', 'Yesenia', 'Yosef', 'Yoselin', 'Yuliana', 'Yurem', 'Yusuf', 'Zachariah', 'Zachary', 'Zachery', 'Zack', 'Zackary', 'Zackery', 'Zaid', 'Zaiden', 'Zain', 'Zaire', 'Zander', 'Zane', 'Zaniyah', 'Zara', 'Zaria', 'Zariah', 'Zavier', 'Zayden', 'Zayne', 'Zechariah', 'Zion', 'Zion', 'Zoe', 'Zoey', 'Zoie']\n"
     ]
    }
   ],
   "source": [
    "def bubble_sort(arr):\n",
    "    n = len(arr)\n",
    "    for i in range(n):\n",
    "        for j in range(n - i - 1):\n",
    "            if arr[j] > arr[j + 1]:\n",
    "                arr[j], arr[j + 1] = arr[j + 1], arr[j]\n",
    "    return arr\n",
    "\n",
    "sorted_babies = bubble_sort(baby_names.copy())\n",
    "print(\"Sorted Baby Names:\", sorted_babies)\n"
   ]
  },
  {
   "cell_type": "markdown",
   "id": "0d14dd95-c3a5-4c5c-b6ce-538cc93f81fe",
   "metadata": {},
   "source": [
    "### 3c. Implement binary search"
   ]
  },
  {
   "cell_type": "code",
   "execution_count": 12,
   "id": "eeea9528-28ec-4fd2-9824-e3406dc64ddb",
   "metadata": {},
   "outputs": [
    {
     "name": "stdin",
     "output_type": "stream",
     "text": [
      "Enter a baby name to search:  olivia\n"
     ]
    },
    {
     "name": "stdout",
     "output_type": "stream",
     "text": [
      "Olivia found at index 1533.\n"
     ]
    }
   ],
   "source": [
    "import os\n",
    "import re\n",
    "\n",
    "# Get the baby names from the HTML file\n",
    "downloads = os.path.join(os.path.expanduser(\"~\"), \"Downloads\")\n",
    "file_path = os.path.join(downloads, \"baby2008.html\")\n",
    "\n",
    "with open(file_path, \"r\", encoding=\"utf-8\") as f:\n",
    "    content = f.read()\n",
    "\n",
    "baby_names = re.findall(r'\\b[A-Z][a-z]{1,}\\b', content)\n",
    "\n",
    "# Remove duplicates and sort the list\n",
    "unique_baby_names = sorted(set(baby_names))\n",
    "\n",
    "# Binary search function\n",
    "def binary_search(arr, target):\n",
    "    low = 0\n",
    "    high = len(arr) - 1\n",
    "    while low <= high:\n",
    "        mid = (low + high) // 2\n",
    "        if arr[mid] == target:\n",
    "            return mid\n",
    "        elif arr[mid] < target:\n",
    "            low = mid + 1\n",
    "        else:\n",
    "            high = mid - 1\n",
    "    return -1\n",
    "\n",
    "# Get user input and capitalize first letter (to match format)\n",
    "user_input = input(\"Enter a baby name to search: \").strip().capitalize()\n",
    "\n",
    "# Search for the name\n",
    "index = binary_search(unique_baby_names, user_input)\n",
    "\n",
    "# Output result\n",
    "if index != -1:\n",
    "    print(f\"{user_input} found at index {index}.\")\n",
    "else:\n",
    "    print(f\"{user_input} not found.\")\n"
   ]
  },
  {
   "cell_type": "code",
   "execution_count": null,
   "id": "7e24be5a-f315-498d-b5d4-05a0f3296840",
   "metadata": {},
   "outputs": [],
   "source": []
  }
 ],
 "metadata": {
  "kernelspec": {
   "display_name": "Python 3 (ipykernel)",
   "language": "python",
   "name": "python3"
  },
  "language_info": {
   "codemirror_mode": {
    "name": "ipython",
    "version": 3
   },
   "file_extension": ".py",
   "mimetype": "text/x-python",
   "name": "python",
   "nbconvert_exporter": "python",
   "pygments_lexer": "ipython3",
   "version": "3.11.0"
  }
 },
 "nbformat": 4,
 "nbformat_minor": 5
}
